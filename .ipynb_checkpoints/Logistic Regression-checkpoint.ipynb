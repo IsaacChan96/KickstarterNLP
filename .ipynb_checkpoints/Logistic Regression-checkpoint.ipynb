{
 "cells": [
  {
   "cell_type": "code",
   "execution_count": 1,
   "metadata": {},
   "outputs": [
    {
     "name": "stderr",
     "output_type": "stream",
     "text": [
      "/opt/anaconda3/lib/python3.7/site-packages/sklearn/linear_model/logistic.py:432: FutureWarning: Default solver will be changed to 'lbfgs' in 0.22. Specify a solver to silence this warning.\n",
      "  FutureWarning)\n"
     ]
    },
    {
     "ename": "NameError",
     "evalue": "name 'confusion_matrix' is not defined",
     "output_type": "error",
     "traceback": [
      "\u001b[0;31m---------------------------------------------------------------------------\u001b[0m",
      "\u001b[0;31mNameError\u001b[0m                                 Traceback (most recent call last)",
      "\u001b[0;32m<ipython-input-1-0bcd66fb2e73>\u001b[0m in \u001b[0;36m<module>\u001b[0;34m\u001b[0m\n\u001b[1;32m     42\u001b[0m \u001b[0mpred\u001b[0m\u001b[0;34m=\u001b[0m\u001b[0mpred\u001b[0m\u001b[0;34m>\u001b[0m\u001b[0;36m0.75\u001b[0m\u001b[0;34m\u001b[0m\u001b[0;34m\u001b[0m\u001b[0m\n\u001b[1;32m     43\u001b[0m \u001b[0mpred\u001b[0m\u001b[0;34m=\u001b[0m\u001b[0mpred\u001b[0m\u001b[0;34m.\u001b[0m\u001b[0mastype\u001b[0m\u001b[0;34m(\u001b[0m\u001b[0mint\u001b[0m\u001b[0;34m)\u001b[0m\u001b[0;34m\u001b[0m\u001b[0;34m\u001b[0m\u001b[0m\n\u001b[0;32m---> 44\u001b[0;31m \u001b[0mcm\u001b[0m \u001b[0;34m=\u001b[0m \u001b[0mconfusion_matrix\u001b[0m\u001b[0;34m(\u001b[0m\u001b[0my_test\u001b[0m\u001b[0;34m,\u001b[0m \u001b[0mpred\u001b[0m\u001b[0;34m)\u001b[0m\u001b[0;34m\u001b[0m\u001b[0;34m\u001b[0m\u001b[0m\n\u001b[0m",
      "\u001b[0;31mNameError\u001b[0m: name 'confusion_matrix' is not defined"
     ]
    }
   ],
   "source": [
    "# Import data, prep-process it and split into test and training sets\n",
    "\n",
    "import pandas as pd\n",
    "dataset=pd.read_csv(\"df_text_eng.csv\")\n",
    "dataset['blurb'] = dataset['blurb'].astype(str)\n",
    "\n",
    "import re\n",
    "import nltk\n",
    "from nltk.corpus import stopwords #import words that are non-essential to text sentiment\n",
    "from nltk.stem.porter import PorterStemmer \n",
    "corpus=[]\n",
    "\n",
    "dataset[\"condtion\"]=[0 if word==\"failed\" else 1 for word in dataset[\"state\"]]\n",
    "\n",
    "\n",
    "for i in range(0,len(dataset['blurb'])):\n",
    "    review=re.sub(\"[^a-zA-Z]\",\" \",dataset[\"blurb\"][i]) #remove punctuation and numbers from words\n",
    "    review=review.lower() #convert all letters to lower\n",
    "    review=review.split() #split words in sentence into different strings in a list\n",
    "    ps=PorterStemmer() \n",
    "    review=[ps.stem(word) for word in review if not word in set(stopwords.words(\"english\"))] #keep words not in stopwords, and stem word into root words\n",
    "    review=\" \".join(review) #join by all the words into a string, separated by \" \"\n",
    "    corpus.append(review) #add all reviews into the list defined as \"corpus\"\n",
    "    \n",
    "from sklearn.feature_extraction.text import CountVectorizer\n",
    "cv=CountVectorizer(max_features=2500) #Keep top 2500 most frequently used words\n",
    "X=cv.fit_transform(corpus).toarray() #Develop a sparse matrix for every word\n",
    "y=dataset.iloc[0:len(dataset['blurb']),3].values\n",
    "\n",
    "# Splitting the dataset into the Training set and Test set\n",
    "from sklearn.model_selection import train_test_split\n",
    "X_train, X_test, y_train, y_test = train_test_split(X, y, test_size = 0.20, random_state = 0)\n",
    "\n",
    "# Fitting Logistic Regression to the Training set\n",
    "\n",
    "\n",
    "from sklearn.linear_model import LogisticRegression\n",
    "classifier = LogisticRegression(random_state = 0)\n",
    "classifier.fit(X_train, y_train)\n",
    "\n",
    "pred=classifier.predict_proba(X_test)[:,1]\n",
    "pred=pred>0.75\n",
    "pred=pred.astype(int)\n",
    "from sklearn.metrics import confusion_matrix\n",
    "cm = confusion_matrix(y_test, pred)\n",
    "cm[1,1]/(cm[0,1]+cm[1,1])"
   ]
  }
 ],
 "metadata": {
  "kernelspec": {
   "display_name": "Python 3",
   "language": "python",
   "name": "python3"
  },
  "language_info": {
   "codemirror_mode": {
    "name": "ipython",
    "version": 3
   },
   "file_extension": ".py",
   "mimetype": "text/x-python",
   "name": "python",
   "nbconvert_exporter": "python",
   "pygments_lexer": "ipython3",
   "version": "3.7.5"
  }
 },
 "nbformat": 4,
 "nbformat_minor": 2
}
