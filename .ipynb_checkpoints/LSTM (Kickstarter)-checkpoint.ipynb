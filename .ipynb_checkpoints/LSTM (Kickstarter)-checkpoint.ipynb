{
 "cells": [
  {
   "cell_type": "code",
   "execution_count": 2,
   "metadata": {},
   "outputs": [
    {
     "name": "stderr",
     "output_type": "stream",
     "text": [
      "/opt/anaconda3/lib/python3.7/site-packages/tensorflow_core/python/framework/indexed_slices.py:424: UserWarning: Converting sparse IndexedSlices to a dense Tensor of unknown shape. This may consume a large amount of memory.\n",
      "  \"Converting sparse IndexedSlices to a dense Tensor of unknown shape. \"\n"
     ]
    },
    {
     "name": "stdout",
     "output_type": "stream",
     "text": [
      "Train on 174564 samples, validate on 19397 samples\n",
      "Epoch 1/1\n",
      "174564/174564 [==============================] - 1366s 8ms/step - loss: 0.6242 - accuracy: 0.6472 - val_loss: 0.5980 - val_accuracy: 0.6760\n",
      "21552/21552 [==============================] - 40s 2ms/step\n",
      "Test set\n",
      "  Loss: 0.597\n",
      "  Accuracy: 0.678\n"
     ]
    }
   ],
   "source": [
    "import pandas as pd\n",
    "import numpy as np \n",
    "from keras.preprocessing.text import Tokenizer\n",
    "from keras.preprocessing.sequence import pad_sequences\n",
    "from keras.models import Sequential\n",
    "from keras.layers import Dense, Embedding, LSTM, SpatialDropout1D\n",
    "from sklearn.model_selection import train_test_split\n",
    "from keras.utils.np_utils import to_categorical\n",
    "from keras.callbacks import EarlyStopping\n",
    "from keras.layers import Dropout\n",
    "import re\n",
    "from nltk.corpus import stopwords\n",
    "from nltk import word_tokenize\n",
    "from nltk.corpus import stopwords #import words that are non-essential to text sentiment\n",
    "from nltk.stem.porter import PorterStemmer \n",
    "dataset=pd.read_csv(\"df_text_eng.csv\")\n",
    "dataset['blurb'] = dataset['blurb'].astype(str)\n",
    "dataset[\"condtion\"]=[0 if word==\"failed\" else 1 for word in dataset[\"state\"]]\n",
    "store=[]\n",
    "for i in range(0,len(dataset['blurb'])):\n",
    "    review=re.sub(\"[^a-zA-Z]\",\" \",dataset[\"blurb\"][i]) #remove punctuation and numbers from words\n",
    "    review=review.lower() #convert all letters to lower\n",
    "    review=review.split() #split words in sentence into different strings in a list\n",
    "    ps=PorterStemmer() \n",
    "    review=[ps.stem(word) for word in review if not word in set(stopwords.words(\"english\"))] #keep words not in stopwords, and stem word into root words\n",
    "    review=\" \".join(review) #join by all the words into a string, separated by \" \"\n",
    "    store.append(review)#add all reviews into the list defined as \"corpus\"\n",
    "dataset['des']=store\n",
    "# The maximum number of words to be used. (most frequent)\n",
    "MAX_NB_WORDS = 50000\n",
    "# Max number of words in each complaint.\n",
    "MAX_SEQUENCE_LENGTH = 250\n",
    "# This is fixed.\n",
    "EMBEDDING_DIM = 100\n",
    "tokenizer = Tokenizer(num_words=MAX_NB_WORDS, filters='!\"#$%&()*+,-./:;<=>?@[\\]^_`{|}~', lower=True)\n",
    "tokenizer.fit_on_texts(dataset['des'].values)\n",
    "word_index = tokenizer.word_index\n",
    "X = tokenizer.texts_to_sequences(dataset['des'].values)\n",
    "X = pad_sequences(X, maxlen=MAX_SEQUENCE_LENGTH)\n",
    "Y =dataset['condtion'].values\n",
    "X_train, X_test, Y_train, Y_test = train_test_split(X,Y, test_size = 0.10, random_state = 42)\n",
    "model = Sequential()\n",
    "model.add(Embedding(MAX_NB_WORDS, EMBEDDING_DIM, input_length=X.shape[1]))\n",
    "model.add(SpatialDropout1D(0.2))\n",
    "model.add(LSTM(100, dropout=0.2, recurrent_dropout=0.2))\n",
    "model.add(Dense(1, activation='sigmoid'))\n",
    "model.compile(loss='binary_crossentropy', optimizer='adam', metrics=['accuracy'])\n",
    "epochs = 1\n",
    "batch_size = 64\n",
    "history = model.fit(X_train, Y_train, epochs=epochs, batch_size=batch_size,validation_split=0.1,callbacks=[EarlyStopping(monitor='val_loss', patience=3, min_delta=0.0001)])\n",
    "accr = model.evaluate(X_test,Y_test)\n",
    "print('Test set\\n  Loss: {:0.3f}\\n  Accuracy: {:0.3f}'.format(accr[0],accr[1]))"
   ]
  }
 ],
 "metadata": {
  "kernelspec": {
   "display_name": "Python 3",
   "language": "python",
   "name": "python3"
  },
  "language_info": {
   "codemirror_mode": {
    "name": "ipython",
    "version": 3
   },
   "file_extension": ".py",
   "mimetype": "text/x-python",
   "name": "python",
   "nbconvert_exporter": "python",
   "pygments_lexer": "ipython3",
   "version": "3.7.5"
  }
 },
 "nbformat": 4,
 "nbformat_minor": 2
}
